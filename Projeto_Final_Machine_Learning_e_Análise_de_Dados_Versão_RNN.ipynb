{
  "nbformat": 4,
  "nbformat_minor": 0,
  "metadata": {
    "colab": {
      "provenance": [],
      "mount_file_id": "1O3-AO17FOe-mgu1M26Io2PHTsH8NVEKq",
      "authorship_tag": "ABX9TyO8IHkLsxBsRDQ/+f6Z6Z0Z",
      "include_colab_link": true
    },
    "kernelspec": {
      "name": "python3",
      "display_name": "Python 3"
    },
    "language_info": {
      "name": "python"
    }
  },
  "cells": [
    {
      "cell_type": "markdown",
      "metadata": {
        "id": "view-in-github",
        "colab_type": "text"
      },
      "source": [
        "<a href=\"https://colab.research.google.com/github/Deivison-Amorim/ML-AD-Tics4-UFRPE/blob/main/Projeto_Final_Machine_Learning_e_An%C3%A1lise_de_Dados_Vers%C3%A3o_RNN.ipynb\" target=\"_parent\"><img src=\"https://colab.research.google.com/assets/colab-badge.svg\" alt=\"Open In Colab\"/></a>"
      ]
    },
    {
      "cell_type": "markdown",
      "source": [
        "**IMPORTAÇÕES UTILIZADAS NO CÓDIGO**"
      ],
      "metadata": {
        "id": "mvq3oj5JKFH7"
      }
    },
    {
      "cell_type": "code",
      "execution_count": null,
      "metadata": {
        "colab": {
          "base_uri": "https://localhost:8080/"
        },
        "id": "YCRtVJkyJbb8",
        "outputId": "0e7180ea-626b-440c-b5ab-f4f909f2a818"
      },
      "outputs": [
        {
          "output_type": "stream",
          "name": "stderr",
          "text": [
            "[nltk_data] Downloading package stopwords to /root/nltk_data...\n",
            "[nltk_data]   Package stopwords is already up-to-date!\n"
          ]
        }
      ],
      "source": [
        "import numpy as np\n",
        "import pandas as pd\n",
        "import re, os\n",
        "\n",
        "from keras.preprocessing.text import Tokenizer\n",
        "from keras_preprocessing.sequence import pad_sequences\n",
        "from sklearn.model_selection import train_test_split\n",
        "from keras.preprocessing.text import text_to_word_sequence\n",
        "from keras.models import Model\n",
        "from keras.layers import Input, Dense, Embedding, SimpleRNN \n",
        "import matplotlib.pyplot as plt\n",
        "from tqdm import tqdm\n",
        "from google.colab import drive\n",
        "\n",
        "\n",
        "import nltk\n",
        "nltk.download('stopwords')\n",
        "from nltk.corpus import stopwords\n",
        "STOPWORDS = set(stopwords.words('portuguese'))"
      ]
    },
    {
      "cell_type": "markdown",
      "source": [
        "**PARÂMETROS IMPORTANTES** "
      ],
      "metadata": {
        "id": "f1O2NWODKydZ"
      }
    },
    {
      "cell_type": "code",
      "source": [
        "epochs = 10 # Quantidade de épocas utilizadas no treinamento\n",
        "batch_size = 20 # Número de amostras a serem utilizadas a cada época\n",
        "max_fatures = 5000 # Quantidade de palavras mantidas no vocabulário\n",
        "embed_dim = 128 # Tamanho de saída da camada Embedding\n",
        "max_sequence_length = 1000 # Tamanho máximo de todas as sentenças\n",
        "seed = 7\n",
        "np.random.seed(seed)\n"
      ],
      "metadata": {
        "id": "odcrJHd6Kwwj"
      },
      "execution_count": null,
      "outputs": []
    },
    {
      "cell_type": "markdown",
      "source": [
        "**DEFINIÇÃO DE FUNÇÕES**"
      ],
      "metadata": {
        "id": "Wk6KxANMW04O"
      }
    },
    {
      "cell_type": "code",
      "source": [
        "def limpar_str(string):\n",
        "    string = re.sub(r\"[^A-Za-z0-9(),!?\\'\\`]\", \" \", string)\n",
        "    string = re.sub(r\"\\'s\", \" \\'s\", string)\n",
        "    string = re.sub(r\"\\'ve\", \" \\'ve\", string)\n",
        "    string = re.sub(r\"n\\'t\", \" n\\'t\", string)\n",
        "    string = re.sub(r\"\\'re\", \" \\'re\", string)\n",
        "    string = re.sub(r\"\\'d\", \" \\'d\", string)\n",
        "    string = re.sub(r\"\\'ll\", \" \\'ll\", string)\n",
        "    string = re.sub(r\",\", \" , \", string)\n",
        "    string = re.sub(r\"!\", \" ! \", string)\n",
        "    string = re.sub(r\"\\(\", \" \\( \", string)\n",
        "    string = re.sub(r\"\\)\", \" \\) \", string)\n",
        "    string = re.sub(r\"\\?\", \" \\? \", string)\n",
        "    string = re.sub(r\"\\s{2,}\", \" \", string)\n",
        "    cleanr = re.compile('<.*?>')\n",
        "    string = re.sub(r'\\d+', '', string)\n",
        "    string = re.sub(cleanr, '', string)\n",
        "    string = re.sub(\"'\", '', string)\n",
        "    string = re.sub(r'\\W+', ' ', string)\n",
        "    string = string.replace('_', '')\n",
        "\n",
        "    return string.strip().lower()\n",
        "\n",
        "\n",
        "def preparar_dados(data):\n",
        "    \n",
        "    data = data[['texto','sentimento']]\n",
        "    \n",
        "    data['texto'] = data['texto'].apply(lambda x: limpar_str(x))\n",
        "    data['texto'] = data['texto'].apply((lambda x: re.sub('[^a-zA-z0-9\\s]','',x)))\n",
        "    \n",
        "    stop_words = set(stopwords.words('portuguese'))\n",
        "    texto = []\n",
        "\n",
        "\n",
        "    for row in data['texto'].values:\n",
        "        word_list = text_to_word_sequence(row)\n",
        "        no_stop_words = [w for w in word_list if not w in stop_words]\n",
        "        no_stop_words = \" \".join(no_stop_words)\n",
        "        texto.append(no_stop_words)\n",
        "\n",
        "    tokenizer = Tokenizer(num_words=max_fatures, split=' ')\n",
        "    tokenizer.fit_on_texts(texto)\n",
        "\n",
        "    X = tokenizer.texts_to_sequences(texto)  \n",
        "    X = pad_sequences(X, maxlen=max_sequence_length)\n",
        "    word_index = tokenizer.word_index\n",
        "    Y = pd.get_dummies(data['sentimento']).values\n",
        "    X_train, X_test, Y_train, Y_test = train_test_split(X,Y, test_size = 0.20, random_state = 42)\n",
        "\n",
        "    return X_train, X_test, Y_train, Y_test, word_index, tokenizer\n",
        "\n",
        "\n",
        "def model():\n",
        "    \n",
        "    input_shape = (max_sequence_length,)\n",
        "    model_input = Input(shape=input_shape, name=\"input\", dtype='int32')    \n",
        "\n",
        "    embedding = Embedding(max_fatures, embed_dim, input_length=max_sequence_length, name=\"embedding\")(model_input)\n",
        "        \n",
        "    rnn = SimpleRNN(embed_dim, dropout=0.2, recurrent_dropout=0.2, name=\"SimpleRNN\")(embedding)\n",
        "        \n",
        "    model_output = Dense(2, activation='sigmoid', name=\"sigmoid\")(rnn)\n",
        "    \n",
        "    model = Model(inputs=model_input, outputs=model_output)\n",
        "    \n",
        "    return model"
      ],
      "metadata": {
        "id": "4lolyVuxW83Z"
      },
      "execution_count": null,
      "outputs": []
    },
    {
      "cell_type": "markdown",
      "source": [
        "**BASE DA DADOS E MODELO**"
      ],
      "metadata": {
        "id": "tuZh0KnLYIPP"
      }
    },
    {
      "cell_type": "code",
      "source": [
        "data = pd.read_excel('/content/drive/MyDrive/Colab Notebooks/Dataset/Projeto Final - Disciplina Redes Neurais/review_books.xlsx')\n",
        "\n",
        "print('Data: ', data)\n",
        "\n",
        "data.texto=data.texto.astype(str)\n",
        "\n",
        "X_train, X_test, Y_train, Y_test, word_index, tokenizer = preparar_dados(data)\n",
        "\n",
        "print(X_train.shape,Y_train.shape)\n",
        "print(X_test.shape,Y_test.shape)\n",
        "\n",
        "model = model()\n",
        "\n",
        "model.compile(loss = 'binary_crossentropy', optimizer='adam', metrics = ['accuracy'])\n",
        "\n",
        "print(model.summary())"
      ],
      "metadata": {
        "id": "bSrrpXWtYLzw",
        "colab": {
          "base_uri": "https://localhost:8080/"
        },
        "outputId": "a6cf340c-73bf-4ae3-a681-9600087c8741"
      },
      "execution_count": null,
      "outputs": [
        {
          "output_type": "stream",
          "name": "stdout",
          "text": [
            "Data:                                                    texto sentimento\n",
            "0     Concordo com outras avaliações feitas, entre o...        neg\n",
            "1     Que história chata! Personagens chatos, diálog...        neg\n",
            "2     A estória podia ter fim no primeiro livro, des...        neg\n",
            "3     Muito narrativo, não prende atenção, tive apre...        neg\n",
            "4     Olá, Recebi uma notificação por email que não ...        neg\n",
            "...                                                 ...        ...\n",
            "1995  Quando li pela primeira vez, eu tinha 19 anos ...        pos\n",
            "1996  Um livrinho capaz de fazer as grandes pessoas ...        pos\n",
            "1997  Livro maravilhoso para crianças pequenas e gra...        pos\n",
            "1998  Chegou 4 dias antes do prazo de entrega estima...        pos\n",
            "1999  Sempre fui apaixonada nos filmes de Harry Pott...        pos\n",
            "\n",
            "[2000 rows x 2 columns]\n",
            "(1600, 1000) (1600, 2)\n",
            "(400, 1000) (400, 2)\n",
            "Model: \"model_12\"\n",
            "_________________________________________________________________\n",
            " Layer (type)                Output Shape              Param #   \n",
            "=================================================================\n",
            " input (InputLayer)          [(None, 1000)]            0         \n",
            "                                                                 \n",
            " embedding (Embedding)       (None, 1000, 128)         640000    \n",
            "                                                                 \n",
            " SimpleRNN (SimpleRNN)       (None, 128)               32896     \n",
            "                                                                 \n",
            " sigmoid (Dense)             (None, 2)                 258       \n",
            "                                                                 \n",
            "=================================================================\n",
            "Total params: 673,154\n",
            "Trainable params: 673,154\n",
            "Non-trainable params: 0\n",
            "_________________________________________________________________\n",
            "None\n"
          ]
        }
      ]
    },
    {
      "cell_type": "markdown",
      "source": [
        "**TREINAMENTO**"
      ],
      "metadata": {
        "id": "6MMeKIquLtfk"
      }
    },
    {
      "cell_type": "code",
      "source": [
        "plot = model.fit(X_train,Y_train,validation_data=(X_test, Y_test),epochs=epochs,batch_size=batch_size,shuffle=True,verbose=1)"
      ],
      "metadata": {
        "colab": {
          "base_uri": "https://localhost:8080/"
        },
        "id": "ut8DNSwlLuZT",
        "outputId": "a3c1964a-f179-415f-cca3-143a3648b4d6"
      },
      "execution_count": null,
      "outputs": [
        {
          "output_type": "stream",
          "name": "stdout",
          "text": [
            "Epoch 1/10\n",
            "80/80 [==============================] - 46s 416ms/step - loss: 0.7206 - accuracy: 0.4925 - val_loss: 0.6884 - val_accuracy: 0.5750\n",
            "Epoch 2/10\n",
            "80/80 [==============================] - 33s 411ms/step - loss: 0.6753 - accuracy: 0.6169 - val_loss: 0.6770 - val_accuracy: 0.5975\n",
            "Epoch 3/10\n",
            "80/80 [==============================] - 33s 407ms/step - loss: 0.6249 - accuracy: 0.6862 - val_loss: 0.6369 - val_accuracy: 0.6650\n",
            "Epoch 4/10\n",
            "80/80 [==============================] - 33s 410ms/step - loss: 0.5299 - accuracy: 0.8006 - val_loss: 0.6485 - val_accuracy: 0.6175\n",
            "Epoch 5/10\n",
            "80/80 [==============================] - 33s 407ms/step - loss: 0.3974 - accuracy: 0.8494 - val_loss: 0.6489 - val_accuracy: 0.6875\n",
            "Epoch 6/10\n",
            "80/80 [==============================] - 36s 453ms/step - loss: 0.2219 - accuracy: 0.9287 - val_loss: 0.5158 - val_accuracy: 0.7950\n",
            "Epoch 7/10\n",
            "80/80 [==============================] - 32s 405ms/step - loss: 0.1258 - accuracy: 0.9681 - val_loss: 0.5702 - val_accuracy: 0.8025\n",
            "Epoch 8/10\n",
            "80/80 [==============================] - 33s 407ms/step - loss: 0.0822 - accuracy: 0.9812 - val_loss: 0.5922 - val_accuracy: 0.7925\n",
            "Epoch 9/10\n",
            "80/80 [==============================] - 33s 409ms/step - loss: 0.0605 - accuracy: 0.9850 - val_loss: 0.6337 - val_accuracy: 0.8000\n",
            "Epoch 10/10\n",
            "80/80 [==============================] - 32s 406ms/step - loss: 0.0427 - accuracy: 0.9906 - val_loss: 0.6190 - val_accuracy: 0.8125\n"
          ]
        }
      ]
    },
    {
      "cell_type": "code",
      "source": [
        "plt.figure()\n",
        "plt.plot(plot.history['loss'], lw=2.0, color='b', label='train')\n",
        "plt.plot(plot.history['val_loss'], lw=2.0, color='r', label='val')\n",
        "plt.title('Classificador de Sentimentos')\n",
        "plt.xlabel('Epochs')\n",
        "plt.ylabel('Cross-Entropy')\n",
        "plt.legend(loc='upper right')\n",
        "plt.show()\n",
        "\n",
        "plt.figure()\n",
        "plt.plot(plot.history['accuracy'], lw=2.0, color='b', label='train')\n",
        "plt.plot(plot.history['val_accuracy'], lw=2.0, color='r', label='val')\n",
        "plt.title('Classificador de Sentimentos')\n",
        "plt.xlabel('Epochs')\n",
        "plt.ylabel('Acurácia')\n",
        "plt.legend(loc='upper left')\n",
        "plt.show()"
      ],
      "metadata": {
        "colab": {
          "base_uri": "https://localhost:8080/",
          "height": 573
        },
        "id": "DUeKCCj7NCeN",
        "outputId": "61f776f5-44ec-42cd-80dc-c6025d21ae01"
      },
      "execution_count": null,
      "outputs": [
        {
          "output_type": "display_data",
          "data": {
            "text/plain": [
              "<Figure size 432x288 with 1 Axes>"
            ],
            "image/png": "[encoded data removed]"
          },
          "metadata": {
            "needs_background": "light"
          }
        },
        {
          "output_type": "display_data",
          "data": {
            "text/plain": [
              "<Figure size 432x288 with 1 Axes>"
            ],
            "image/png": "[encoded data removed]"
          },
          "metadata": {
            "needs_background": "light"
          }
        }
      ]
    }
  ]
}